{
 "cells": [
  {
   "cell_type": "markdown",
   "id": "5f5b5b36-6020-4183-a6d6-b04f7116d807",
   "metadata": {},
   "source": [
    "# Deviations from normality"
   ]
  },
  {
   "cell_type": "code",
   "execution_count": 1,
   "id": "fcd2a90e-c25c-4704-ae54-a855df7d7121",
   "metadata": {},
   "outputs": [],
   "source": [
    "%load_ext autoreload\n",
    "%autoreload 2\n",
    "import pandas as pd\n",
    "import edhec_risk_kit as erk"
   ]
  },
  {
   "cell_type": "code",
   "execution_count": 2,
   "id": "de41d77f-d2f3-42b7-9403-99334e6584ab",
   "metadata": {},
   "outputs": [],
   "source": [
    "hfi=erk.get_hfi_returns()"
   ]
  },
  {
   "cell_type": "code",
   "execution_count": 3,
   "id": "737fdd7c-4585-41b5-967b-4305cede8e19",
   "metadata": {},
   "outputs": [
    {
     "data": {
      "text/html": [
       "<div>\n",
       "<style scoped>\n",
       "    .dataframe tbody tr th:only-of-type {\n",
       "        vertical-align: middle;\n",
       "    }\n",
       "\n",
       "    .dataframe tbody tr th {\n",
       "        vertical-align: top;\n",
       "    }\n",
       "\n",
       "    .dataframe thead th {\n",
       "        text-align: right;\n",
       "    }\n",
       "</style>\n",
       "<table border=\"1\" class=\"dataframe\">\n",
       "  <thead>\n",
       "    <tr style=\"text-align: right;\">\n",
       "      <th></th>\n",
       "      <th>Convertible Arbitrage</th>\n",
       "      <th>CTA Global</th>\n",
       "      <th>Distressed Securities</th>\n",
       "      <th>Emerging Markets</th>\n",
       "      <th>Equity Market Neutral</th>\n",
       "      <th>Event Driven</th>\n",
       "      <th>Fixed Income Arbitrage</th>\n",
       "      <th>Global Macro</th>\n",
       "      <th>Long/Short Equity</th>\n",
       "      <th>Merger Arbitrage</th>\n",
       "      <th>Relative Value</th>\n",
       "      <th>Short Selling</th>\n",
       "      <th>Funds Of Funds</th>\n",
       "    </tr>\n",
       "    <tr>\n",
       "      <th>date</th>\n",
       "      <th></th>\n",
       "      <th></th>\n",
       "      <th></th>\n",
       "      <th></th>\n",
       "      <th></th>\n",
       "      <th></th>\n",
       "      <th></th>\n",
       "      <th></th>\n",
       "      <th></th>\n",
       "      <th></th>\n",
       "      <th></th>\n",
       "      <th></th>\n",
       "      <th></th>\n",
       "    </tr>\n",
       "  </thead>\n",
       "  <tbody>\n",
       "    <tr>\n",
       "      <th>1997-01</th>\n",
       "      <td>0.0119</td>\n",
       "      <td>0.0393</td>\n",
       "      <td>0.0178</td>\n",
       "      <td>0.0791</td>\n",
       "      <td>0.0189</td>\n",
       "      <td>0.0213</td>\n",
       "      <td>0.0191</td>\n",
       "      <td>0.0573</td>\n",
       "      <td>0.0281</td>\n",
       "      <td>0.0150</td>\n",
       "      <td>0.0180</td>\n",
       "      <td>-0.0166</td>\n",
       "      <td>0.0317</td>\n",
       "    </tr>\n",
       "    <tr>\n",
       "      <th>1997-02</th>\n",
       "      <td>0.0123</td>\n",
       "      <td>0.0298</td>\n",
       "      <td>0.0122</td>\n",
       "      <td>0.0525</td>\n",
       "      <td>0.0101</td>\n",
       "      <td>0.0084</td>\n",
       "      <td>0.0122</td>\n",
       "      <td>0.0175</td>\n",
       "      <td>-0.0006</td>\n",
       "      <td>0.0034</td>\n",
       "      <td>0.0118</td>\n",
       "      <td>0.0426</td>\n",
       "      <td>0.0106</td>\n",
       "    </tr>\n",
       "    <tr>\n",
       "      <th>1997-03</th>\n",
       "      <td>0.0078</td>\n",
       "      <td>-0.0021</td>\n",
       "      <td>-0.0012</td>\n",
       "      <td>-0.0120</td>\n",
       "      <td>0.0016</td>\n",
       "      <td>-0.0023</td>\n",
       "      <td>0.0109</td>\n",
       "      <td>-0.0119</td>\n",
       "      <td>-0.0084</td>\n",
       "      <td>0.0060</td>\n",
       "      <td>0.0010</td>\n",
       "      <td>0.0778</td>\n",
       "      <td>-0.0077</td>\n",
       "    </tr>\n",
       "    <tr>\n",
       "      <th>1997-04</th>\n",
       "      <td>0.0086</td>\n",
       "      <td>-0.0170</td>\n",
       "      <td>0.0030</td>\n",
       "      <td>0.0119</td>\n",
       "      <td>0.0119</td>\n",
       "      <td>-0.0005</td>\n",
       "      <td>0.0130</td>\n",
       "      <td>0.0172</td>\n",
       "      <td>0.0084</td>\n",
       "      <td>-0.0001</td>\n",
       "      <td>0.0122</td>\n",
       "      <td>-0.0129</td>\n",
       "      <td>0.0009</td>\n",
       "    </tr>\n",
       "    <tr>\n",
       "      <th>1997-05</th>\n",
       "      <td>0.0156</td>\n",
       "      <td>-0.0015</td>\n",
       "      <td>0.0233</td>\n",
       "      <td>0.0315</td>\n",
       "      <td>0.0189</td>\n",
       "      <td>0.0346</td>\n",
       "      <td>0.0118</td>\n",
       "      <td>0.0108</td>\n",
       "      <td>0.0394</td>\n",
       "      <td>0.0197</td>\n",
       "      <td>0.0173</td>\n",
       "      <td>-0.0737</td>\n",
       "      <td>0.0275</td>\n",
       "    </tr>\n",
       "    <tr>\n",
       "      <th>...</th>\n",
       "      <td>...</td>\n",
       "      <td>...</td>\n",
       "      <td>...</td>\n",
       "      <td>...</td>\n",
       "      <td>...</td>\n",
       "      <td>...</td>\n",
       "      <td>...</td>\n",
       "      <td>...</td>\n",
       "      <td>...</td>\n",
       "      <td>...</td>\n",
       "      <td>...</td>\n",
       "      <td>...</td>\n",
       "      <td>...</td>\n",
       "    </tr>\n",
       "    <tr>\n",
       "      <th>2018-07</th>\n",
       "      <td>0.0021</td>\n",
       "      <td>-0.0058</td>\n",
       "      <td>0.0093</td>\n",
       "      <td>0.0040</td>\n",
       "      <td>-0.0010</td>\n",
       "      <td>0.0055</td>\n",
       "      <td>0.0022</td>\n",
       "      <td>-0.0014</td>\n",
       "      <td>0.0067</td>\n",
       "      <td>-0.0021</td>\n",
       "      <td>0.0045</td>\n",
       "      <td>-0.0052</td>\n",
       "      <td>0.0018</td>\n",
       "    </tr>\n",
       "    <tr>\n",
       "      <th>2018-08</th>\n",
       "      <td>0.0024</td>\n",
       "      <td>0.0166</td>\n",
       "      <td>0.0002</td>\n",
       "      <td>-0.0277</td>\n",
       "      <td>0.0004</td>\n",
       "      <td>0.0011</td>\n",
       "      <td>0.0017</td>\n",
       "      <td>-0.0007</td>\n",
       "      <td>0.0035</td>\n",
       "      <td>0.0050</td>\n",
       "      <td>-0.0002</td>\n",
       "      <td>-0.0214</td>\n",
       "      <td>0.0015</td>\n",
       "    </tr>\n",
       "    <tr>\n",
       "      <th>2018-09</th>\n",
       "      <td>0.0034</td>\n",
       "      <td>-0.0054</td>\n",
       "      <td>0.0050</td>\n",
       "      <td>-0.0110</td>\n",
       "      <td>-0.0016</td>\n",
       "      <td>0.0032</td>\n",
       "      <td>0.0036</td>\n",
       "      <td>0.0006</td>\n",
       "      <td>-0.0023</td>\n",
       "      <td>0.0028</td>\n",
       "      <td>0.0018</td>\n",
       "      <td>0.0036</td>\n",
       "      <td>-0.0022</td>\n",
       "    </tr>\n",
       "    <tr>\n",
       "      <th>2018-10</th>\n",
       "      <td>-0.0073</td>\n",
       "      <td>-0.0314</td>\n",
       "      <td>-0.0158</td>\n",
       "      <td>-0.0315</td>\n",
       "      <td>-0.0129</td>\n",
       "      <td>-0.0257</td>\n",
       "      <td>-0.0023</td>\n",
       "      <td>-0.0096</td>\n",
       "      <td>-0.0402</td>\n",
       "      <td>-0.0080</td>\n",
       "      <td>-0.0109</td>\n",
       "      <td>0.0237</td>\n",
       "      <td>-0.0269</td>\n",
       "    </tr>\n",
       "    <tr>\n",
       "      <th>2018-11</th>\n",
       "      <td>-0.0068</td>\n",
       "      <td>-0.0053</td>\n",
       "      <td>-0.0193</td>\n",
       "      <td>0.0120</td>\n",
       "      <td>-0.0211</td>\n",
       "      <td>-0.0034</td>\n",
       "      <td>-0.0067</td>\n",
       "      <td>-0.0087</td>\n",
       "      <td>-0.0044</td>\n",
       "      <td>0.0119</td>\n",
       "      <td>-0.0063</td>\n",
       "      <td>-0.0021</td>\n",
       "      <td>-0.0071</td>\n",
       "    </tr>\n",
       "  </tbody>\n",
       "</table>\n",
       "<p>263 rows × 13 columns</p>\n",
       "</div>"
      ],
      "text/plain": [
       "         Convertible Arbitrage  CTA Global  Distressed Securities  \\\n",
       "date                                                                \n",
       "1997-01                 0.0119      0.0393                 0.0178   \n",
       "1997-02                 0.0123      0.0298                 0.0122   \n",
       "1997-03                 0.0078     -0.0021                -0.0012   \n",
       "1997-04                 0.0086     -0.0170                 0.0030   \n",
       "1997-05                 0.0156     -0.0015                 0.0233   \n",
       "...                        ...         ...                    ...   \n",
       "2018-07                 0.0021     -0.0058                 0.0093   \n",
       "2018-08                 0.0024      0.0166                 0.0002   \n",
       "2018-09                 0.0034     -0.0054                 0.0050   \n",
       "2018-10                -0.0073     -0.0314                -0.0158   \n",
       "2018-11                -0.0068     -0.0053                -0.0193   \n",
       "\n",
       "         Emerging Markets  Equity Market Neutral  Event Driven  \\\n",
       "date                                                             \n",
       "1997-01            0.0791                 0.0189        0.0213   \n",
       "1997-02            0.0525                 0.0101        0.0084   \n",
       "1997-03           -0.0120                 0.0016       -0.0023   \n",
       "1997-04            0.0119                 0.0119       -0.0005   \n",
       "1997-05            0.0315                 0.0189        0.0346   \n",
       "...                   ...                    ...           ...   \n",
       "2018-07            0.0040                -0.0010        0.0055   \n",
       "2018-08           -0.0277                 0.0004        0.0011   \n",
       "2018-09           -0.0110                -0.0016        0.0032   \n",
       "2018-10           -0.0315                -0.0129       -0.0257   \n",
       "2018-11            0.0120                -0.0211       -0.0034   \n",
       "\n",
       "         Fixed Income Arbitrage  Global Macro  Long/Short Equity  \\\n",
       "date                                                               \n",
       "1997-01                  0.0191        0.0573             0.0281   \n",
       "1997-02                  0.0122        0.0175            -0.0006   \n",
       "1997-03                  0.0109       -0.0119            -0.0084   \n",
       "1997-04                  0.0130        0.0172             0.0084   \n",
       "1997-05                  0.0118        0.0108             0.0394   \n",
       "...                         ...           ...                ...   \n",
       "2018-07                  0.0022       -0.0014             0.0067   \n",
       "2018-08                  0.0017       -0.0007             0.0035   \n",
       "2018-09                  0.0036        0.0006            -0.0023   \n",
       "2018-10                 -0.0023       -0.0096            -0.0402   \n",
       "2018-11                 -0.0067       -0.0087            -0.0044   \n",
       "\n",
       "         Merger Arbitrage  Relative Value  Short Selling  Funds Of Funds  \n",
       "date                                                                      \n",
       "1997-01            0.0150          0.0180        -0.0166          0.0317  \n",
       "1997-02            0.0034          0.0118         0.0426          0.0106  \n",
       "1997-03            0.0060          0.0010         0.0778         -0.0077  \n",
       "1997-04           -0.0001          0.0122        -0.0129          0.0009  \n",
       "1997-05            0.0197          0.0173        -0.0737          0.0275  \n",
       "...                   ...             ...            ...             ...  \n",
       "2018-07           -0.0021          0.0045        -0.0052          0.0018  \n",
       "2018-08            0.0050         -0.0002        -0.0214          0.0015  \n",
       "2018-09            0.0028          0.0018         0.0036         -0.0022  \n",
       "2018-10           -0.0080         -0.0109         0.0237         -0.0269  \n",
       "2018-11            0.0119         -0.0063        -0.0021         -0.0071  \n",
       "\n",
       "[263 rows x 13 columns]"
      ]
     },
     "execution_count": 3,
     "metadata": {},
     "output_type": "execute_result"
    }
   ],
   "source": [
    "hfi"
   ]
  },
  {
   "cell_type": "code",
   "execution_count": 4,
   "id": "d36e40dd-5ad0-4520-9990-6d087ae568f8",
   "metadata": {},
   "outputs": [
    {
     "data": {
      "text/html": [
       "<div>\n",
       "<style scoped>\n",
       "    .dataframe tbody tr th:only-of-type {\n",
       "        vertical-align: middle;\n",
       "    }\n",
       "\n",
       "    .dataframe tbody tr th {\n",
       "        vertical-align: top;\n",
       "    }\n",
       "\n",
       "    .dataframe thead th {\n",
       "        text-align: right;\n",
       "    }\n",
       "</style>\n",
       "<table border=\"1\" class=\"dataframe\">\n",
       "  <thead>\n",
       "    <tr style=\"text-align: right;\">\n",
       "      <th></th>\n",
       "      <th>0</th>\n",
       "      <th>1</th>\n",
       "      <th>2</th>\n",
       "    </tr>\n",
       "  </thead>\n",
       "  <tbody>\n",
       "    <tr>\n",
       "      <th>Convertible Arbitrage</th>\n",
       "      <td>0.005508</td>\n",
       "      <td>0.0065</td>\n",
       "      <td>False</td>\n",
       "    </tr>\n",
       "    <tr>\n",
       "      <th>CTA Global</th>\n",
       "      <td>0.004074</td>\n",
       "      <td>0.0014</td>\n",
       "      <td>True</td>\n",
       "    </tr>\n",
       "    <tr>\n",
       "      <th>Distressed Securities</th>\n",
       "      <td>0.006946</td>\n",
       "      <td>0.0089</td>\n",
       "      <td>False</td>\n",
       "    </tr>\n",
       "    <tr>\n",
       "      <th>Emerging Markets</th>\n",
       "      <td>0.006253</td>\n",
       "      <td>0.0096</td>\n",
       "      <td>False</td>\n",
       "    </tr>\n",
       "    <tr>\n",
       "      <th>Equity Market Neutral</th>\n",
       "      <td>0.004498</td>\n",
       "      <td>0.0051</td>\n",
       "      <td>False</td>\n",
       "    </tr>\n",
       "    <tr>\n",
       "      <th>Event Driven</th>\n",
       "      <td>0.006344</td>\n",
       "      <td>0.0084</td>\n",
       "      <td>False</td>\n",
       "    </tr>\n",
       "    <tr>\n",
       "      <th>Fixed Income Arbitrage</th>\n",
       "      <td>0.004365</td>\n",
       "      <td>0.0055</td>\n",
       "      <td>False</td>\n",
       "    </tr>\n",
       "    <tr>\n",
       "      <th>Global Macro</th>\n",
       "      <td>0.005403</td>\n",
       "      <td>0.0038</td>\n",
       "      <td>True</td>\n",
       "    </tr>\n",
       "    <tr>\n",
       "      <th>Long/Short Equity</th>\n",
       "      <td>0.006331</td>\n",
       "      <td>0.0079</td>\n",
       "      <td>False</td>\n",
       "    </tr>\n",
       "    <tr>\n",
       "      <th>Merger Arbitrage</th>\n",
       "      <td>0.005356</td>\n",
       "      <td>0.0060</td>\n",
       "      <td>False</td>\n",
       "    </tr>\n",
       "    <tr>\n",
       "      <th>Relative Value</th>\n",
       "      <td>0.005792</td>\n",
       "      <td>0.0067</td>\n",
       "      <td>False</td>\n",
       "    </tr>\n",
       "    <tr>\n",
       "      <th>Short Selling</th>\n",
       "      <td>-0.001701</td>\n",
       "      <td>-0.0053</td>\n",
       "      <td>True</td>\n",
       "    </tr>\n",
       "    <tr>\n",
       "      <th>Funds Of Funds</th>\n",
       "      <td>0.004262</td>\n",
       "      <td>0.0052</td>\n",
       "      <td>False</td>\n",
       "    </tr>\n",
       "  </tbody>\n",
       "</table>\n",
       "</div>"
      ],
      "text/plain": [
       "                               0       1      2\n",
       "Convertible Arbitrage   0.005508  0.0065  False\n",
       "CTA Global              0.004074  0.0014   True\n",
       "Distressed Securities   0.006946  0.0089  False\n",
       "Emerging Markets        0.006253  0.0096  False\n",
       "Equity Market Neutral   0.004498  0.0051  False\n",
       "Event Driven            0.006344  0.0084  False\n",
       "Fixed Income Arbitrage  0.004365  0.0055  False\n",
       "Global Macro            0.005403  0.0038   True\n",
       "Long/Short Equity       0.006331  0.0079  False\n",
       "Merger Arbitrage        0.005356  0.0060  False\n",
       "Relative Value          0.005792  0.0067  False\n",
       "Short Selling          -0.001701 -0.0053   True\n",
       "Funds Of Funds          0.004262  0.0052  False"
      ]
     },
     "execution_count": 4,
     "metadata": {},
     "output_type": "execute_result"
    }
   ],
   "source": [
    "pd.concat([hfi.mean(),hfi.median(),hfi.mean()>hfi.median()],axis=\"columns\")"
   ]
  },
  {
   "cell_type": "code",
   "execution_count": 5,
   "id": "448aa4b2-773d-442a-a271-4eabc91bdb4a",
   "metadata": {},
   "outputs": [],
   "source": [
    "from scipy import stats"
   ]
  },
  {
   "cell_type": "code",
   "execution_count": 6,
   "id": "901809a1-7351-480a-bf41-aeaa8234b963",
   "metadata": {},
   "outputs": [
    {
     "data": {
      "text/plain": [
       "Fixed Income Arbitrage   -3.962959\n",
       "Convertible Arbitrage    -2.654757\n",
       "Equity Market Neutral    -2.136641\n",
       "Relative Value           -1.825900\n",
       "Event Driven             -1.417250\n",
       "Merger Arbitrage         -1.327668\n",
       "Distressed Securities    -1.308316\n",
       "Emerging Markets         -1.173773\n",
       "Long/Short Equity        -0.392469\n",
       "Funds Of Funds           -0.363862\n",
       "CTA Global                0.174697\n",
       "Short Selling             0.772387\n",
       "Global Macro              0.988569\n",
       "dtype: float64"
      ]
     },
     "execution_count": 6,
     "metadata": {},
     "output_type": "execute_result"
    }
   ],
   "source": [
    "hfi.skew().sort_values()"
   ]
  },
  {
   "cell_type": "code",
   "execution_count": 7,
   "id": "f4112683-c153-42f9-9cb4-4963da40d6a4",
   "metadata": {},
   "outputs": [
    {
     "data": {
      "text/plain": [
       "Convertible Arbitrage     20.694912\n",
       "CTA Global                -0.024781\n",
       "Distressed Securities      5.007403\n",
       "Emerging Markets           6.394438\n",
       "Equity Market Neutral     14.515783\n",
       "Event Driven               5.156059\n",
       "Fixed Income Arbitrage    27.382747\n",
       "Global Macro               2.817691\n",
       "Long/Short Equity          1.576431\n",
       "Merger Arbitrage           5.872733\n",
       "Relative Value             9.320184\n",
       "Short Selling              3.201032\n",
       "Funds Of Funds             4.171770\n",
       "dtype: float64"
      ]
     },
     "execution_count": 7,
     "metadata": {},
     "output_type": "execute_result"
    }
   ],
   "source": [
    "hfi.kurt()"
   ]
  },
  {
   "cell_type": "code",
   "execution_count": 8,
   "id": "b4cbba7b-cd8f-4a11-8d01-446fbb2f6ea5",
   "metadata": {},
   "outputs": [
    {
     "data": {
      "text/plain": [
       "(263, 13)"
      ]
     },
     "execution_count": 8,
     "metadata": {},
     "output_type": "execute_result"
    }
   ],
   "source": [
    "hfi.shape"
   ]
  },
  {
   "cell_type": "code",
   "execution_count": 9,
   "id": "8ef254a8-b685-4ac8-8721-abc17452b29c",
   "metadata": {},
   "outputs": [],
   "source": [
    "import numpy as np"
   ]
  },
  {
   "cell_type": "code",
   "execution_count": 10,
   "id": "5144a7f7-f683-4bdd-bb3c-7bde31681e54",
   "metadata": {},
   "outputs": [],
   "source": [
    "normal_rets=np.random.normal(0, .1, size=(26300,1))"
   ]
  },
  {
   "cell_type": "code",
   "execution_count": 11,
   "id": "c2bb343e-d8b7-4c87-aab5-9b58d8b4ba8b",
   "metadata": {},
   "outputs": [],
   "source": [
    "import scipy"
   ]
  },
  {
   "cell_type": "code",
   "execution_count": 12,
   "id": "c2d615b8-1068-41eb-aabc-ebc0045459c1",
   "metadata": {},
   "outputs": [
    {
     "data": {
      "text/plain": [
       "array([-0.03662804])"
      ]
     },
     "execution_count": 12,
     "metadata": {},
     "output_type": "execute_result"
    }
   ],
   "source": [
    "scipy.stats.kurtosis(normal_rets)"
   ]
  },
  {
   "cell_type": "code",
   "execution_count": 13,
   "id": "df589eeb-c939-4643-98be-46e93d309615",
   "metadata": {},
   "outputs": [
    {
     "data": {
      "text/plain": [
       "Convertible Arbitrage     20.694912\n",
       "CTA Global                -0.024781\n",
       "Distressed Securities      5.007403\n",
       "Emerging Markets           6.394438\n",
       "Equity Market Neutral     14.515783\n",
       "Event Driven               5.156059\n",
       "Fixed Income Arbitrage    27.382747\n",
       "Global Macro               2.817691\n",
       "Long/Short Equity          1.576431\n",
       "Merger Arbitrage           5.872733\n",
       "Relative Value             9.320184\n",
       "Short Selling              3.201032\n",
       "Funds Of Funds             4.171770\n",
       "dtype: float64"
      ]
     },
     "execution_count": 13,
     "metadata": {},
     "output_type": "execute_result"
    }
   ],
   "source": [
    "hfi.kurt()"
   ]
  },
  {
   "cell_type": "code",
   "execution_count": 14,
   "id": "d920cc46-7652-4713-b07f-15b1466cbb5c",
   "metadata": {},
   "outputs": [
    {
     "data": {
      "text/plain": [
       "Jarque_beraResult(statistic=1.4754040585270538, pvalue=0.47821157004282155)"
      ]
     },
     "execution_count": 14,
     "metadata": {},
     "output_type": "execute_result"
    }
   ],
   "source": [
    "scipy.stats.jarque_bera(normal_rets)"
   ]
  },
  {
   "cell_type": "code",
   "execution_count": 15,
   "id": "6ca7a80c-9000-48ce-9c65-95feecb570a0",
   "metadata": {
    "tags": []
   },
   "outputs": [
    {
     "data": {
      "text/plain": [
       "Jarque_beraResult(statistic=25656.585999171326, pvalue=0.0)"
      ]
     },
     "execution_count": 15,
     "metadata": {},
     "output_type": "execute_result"
    }
   ],
   "source": [
    "scipy.stats.jarque_bera(hfi)"
   ]
  },
  {
   "cell_type": "code",
   "execution_count": 16,
   "id": "b2bdd149-7d44-47c5-ab3d-f5d2a06cc35e",
   "metadata": {},
   "outputs": [
    {
     "data": {
      "text/plain": [
       "array([0.00109123])"
      ]
     },
     "execution_count": 16,
     "metadata": {},
     "output_type": "execute_result"
    }
   ],
   "source": [
    "scipy.stats.skew(normal_rets)\n"
   ]
  },
  {
   "cell_type": "code",
   "execution_count": 17,
   "id": "75f1291f-eaa5-4aed-993b-bd4a5433af30",
   "metadata": {},
   "outputs": [
    {
     "data": {
      "text/plain": [
       "array([-0.03662804])"
      ]
     },
     "execution_count": 17,
     "metadata": {},
     "output_type": "execute_result"
    }
   ],
   "source": [
    "scipy.stats.kurtosis(normal_rets)"
   ]
  },
  {
   "cell_type": "code",
   "execution_count": 18,
   "id": "be9e411a-edd0-48a7-830e-a52c23803d7d",
   "metadata": {},
   "outputs": [
    {
     "data": {
      "text/plain": [
       "Jarque_beraResult(statistic=1.4754040585270538, pvalue=0.47821157004282155)"
      ]
     },
     "execution_count": 18,
     "metadata": {},
     "output_type": "execute_result"
    }
   ],
   "source": [
    "scipy.stats.jarque_bera(normal_rets)"
   ]
  },
  {
   "cell_type": "code",
   "execution_count": 19,
   "id": "2a8e8e2c-c56a-478f-ac45-555f7070c159",
   "metadata": {},
   "outputs": [
    {
     "data": {
      "text/plain": [
       "Jarque_beraResult(statistic=25656.585999171326, pvalue=0.0)"
      ]
     },
     "execution_count": 19,
     "metadata": {},
     "output_type": "execute_result"
    }
   ],
   "source": [
    "scipy.stats.jarque_bera(hfi)"
   ]
  },
  {
   "cell_type": "code",
   "execution_count": 21,
   "id": "668f5d2d-70c8-41d9-b2bc-c0b8c4fb337a",
   "metadata": {},
   "outputs": [
    {
     "data": {
      "text/plain": [
       "True"
      ]
     },
     "execution_count": 21,
     "metadata": {},
     "output_type": "execute_result"
    }
   ],
   "source": [
    "erk.is_normal(normal_rets)"
   ]
  },
  {
   "cell_type": "code",
   "execution_count": 22,
   "id": "90f06d32-c723-4df2-bd06-00054e59c38c",
   "metadata": {},
   "outputs": [
    {
     "data": {
      "text/plain": [
       "False"
      ]
     },
     "execution_count": 22,
     "metadata": {},
     "output_type": "execute_result"
    }
   ],
   "source": [
    "erk.is_normal(hfi)"
   ]
  },
  {
   "cell_type": "code",
   "execution_count": 25,
   "id": "3cf7cf79-e771-435c-997c-c3e304d05fef",
   "metadata": {},
   "outputs": [
    {
     "data": {
      "text/plain": [
       "Convertible Arbitrage     False\n",
       "CTA Global                 True\n",
       "Distressed Securities     False\n",
       "Emerging Markets          False\n",
       "Equity Market Neutral     False\n",
       "Event Driven              False\n",
       "Fixed Income Arbitrage    False\n",
       "Global Macro              False\n",
       "Long/Short Equity         False\n",
       "Merger Arbitrage          False\n",
       "Relative Value            False\n",
       "Short Selling             False\n",
       "Funds Of Funds            False\n",
       "dtype: bool"
      ]
     },
     "execution_count": 25,
     "metadata": {},
     "output_type": "execute_result"
    }
   ],
   "source": [
    "hfi.aggregate(erk.is_normal)"
   ]
  },
  {
   "cell_type": "code",
   "execution_count": 26,
   "id": "f62e564d-2565-4462-bdf6-a23acf6da2ba",
   "metadata": {},
   "outputs": [],
   "source": [
    "ffme=erk.get_ffme_returns()\n"
   ]
  },
  {
   "cell_type": "code",
   "execution_count": 27,
   "id": "313b7b47-43e2-4adf-b2d6-3a7b9ac6979b",
   "metadata": {},
   "outputs": [
    {
     "data": {
      "text/plain": [
       "SmallCap    4.416709\n",
       "LargeCap    0.233761\n",
       "dtype: float64"
      ]
     },
     "execution_count": 27,
     "metadata": {},
     "output_type": "execute_result"
    }
   ],
   "source": [
    "ffme.skew()"
   ]
  },
  {
   "cell_type": "code",
   "execution_count": 28,
   "id": "b8bbb3cd-75b6-43da-8aaa-0f8066abb856",
   "metadata": {},
   "outputs": [
    {
     "data": {
      "text/plain": [
       "pandas.core.frame.DataFrame"
      ]
     },
     "execution_count": 28,
     "metadata": {},
     "output_type": "execute_result"
    }
   ],
   "source": [
    "type(ffme)"
   ]
  },
  {
   "cell_type": "code",
   "execution_count": 29,
   "id": "f6a4e84e-5886-4126-b593-381a1a058910",
   "metadata": {},
   "outputs": [
    {
     "data": {
      "text/plain": [
       "SmallCap    44.048575\n",
       "LargeCap     7.734852\n",
       "dtype: float64"
      ]
     },
     "execution_count": 29,
     "metadata": {},
     "output_type": "execute_result"
    }
   ],
   "source": [
    "ffme.kurt()"
   ]
  },
  {
   "cell_type": "code",
   "execution_count": 30,
   "id": "093ddc4a-2d55-4e6d-b6cf-359b8f3987a2",
   "metadata": {},
   "outputs": [
    {
     "data": {
      "text/plain": [
       "SmallCap    False\n",
       "LargeCap    False\n",
       "dtype: bool"
      ]
     },
     "execution_count": 30,
     "metadata": {},
     "output_type": "execute_result"
    }
   ],
   "source": [
    "ffme.aggregate(erk.is_normal)"
   ]
  },
  {
   "cell_type": "code",
   "execution_count": null,
   "id": "2ea9cf36-efd3-4f7f-9b91-f3dd093b1a2a",
   "metadata": {},
   "outputs": [],
   "source": []
  }
 ],
 "metadata": {
  "kernelspec": {
   "display_name": "Python 3 (ipykernel)",
   "language": "python",
   "name": "python3"
  },
  "language_info": {
   "codemirror_mode": {
    "name": "ipython",
    "version": 3
   },
   "file_extension": ".py",
   "mimetype": "text/x-python",
   "name": "python",
   "nbconvert_exporter": "python",
   "pygments_lexer": "ipython3",
   "version": "3.9.12"
  }
 },
 "nbformat": 4,
 "nbformat_minor": 5
}
